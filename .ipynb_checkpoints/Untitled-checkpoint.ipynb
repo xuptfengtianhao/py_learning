{
 "cells": [
  {
   "cell_type": "code",
   "execution_count": null,
   "metadata": {},
   "outputs": [],
   "source": [
    "print(\"shit\")"
   ]
  },
  {
   "cell_type": "code",
   "execution_count": null,
   "metadata": {},
   "outputs": [],
   "source": []
  }
 ],
 "metadata": {
  "kernelspec": {
   "display_name": "Python [conda env:shit_gpu]",
   "language": "python",
   "name": "conda-env-shit_gpu-py"
  }
 },
 "nbformat": 4,
 "nbformat_minor": 4
}
